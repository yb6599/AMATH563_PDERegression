{
 "cells": [
  {
   "cell_type": "code",
   "execution_count": null,
   "metadata": {},
   "outputs": [],
   "source": [
    "import functions\n",
    "from sklearn.metrics import mean_squared_error\n",
    "import matplotlib.pyplot as plt\n",
    "import numpy as np\n",
    "import pandas as pd"
   ]
  },
  {
   "cell_type": "code",
   "execution_count": null,
   "metadata": {},
   "outputs": [],
   "source": [
    "system = (\n",
    "    \"Kuramoto-Sivashinsky\"  # Choose from 'Burgers', 'Diffusion', 'Kuramoto-Sivashinsky'\n",
    ")\n",
    "u, x, t = functions.load_data(system)\n",
    "u_noisy = functions.add_noise(u, noise_percentage=20)\n",
    "\n",
    "kernel_types = [\"rbf\", \"poly\", \"sigmoid\"]\n",
    "results = {}\n",
    "smoothing_mse_list = []\n",
    "functional_mse_list = []"
   ]
  },
  {
   "cell_type": "code",
   "execution_count": null,
   "metadata": {},
   "outputs": [],
   "source": [
    "for smoothing_kernel in kernel_types:\n",
    "    smoothing_param_grid = functions.generate_param_grid(smoothing_kernel)\n",
    "    best_smoothing_params, smoothing_mse_grid = functions.find_best_parameters(\n",
    "        u, u_noisy, x, smoothing_kernel, smoothing_param_grid\n",
    "    )\n",
    "    smoothing_mse_list.extend(\n",
    "        [\n",
    "            {\"kernel\": smoothing_kernel, **mse_record}\n",
    "            for mse_record in smoothing_mse_grid\n",
    "        ]\n",
    "    )\n",
    "\n",
    "    u_smooth = functions.kernel_smoothing(\n",
    "        u_noisy, x, kernel=smoothing_kernel, **best_smoothing_params\n",
    "    )\n",
    "    derivatives = functions.kernel_spatial_derivatives(\n",
    "        x, x, u_noisy, kernel=smoothing_kernel, order=4, **best_smoothing_params\n",
    "    )\n",
    "    ut, s = functions.calculate_ut_and_s(system, x, u_smooth, derivatives)\n",
    "\n",
    "    for functional_kernel in kernel_types:\n",
    "        functional_param_grid = functions.generate_param_grid(functional_kernel)\n",
    "        best_functional_params, functional_mse_grid = functions.find_best_parameters(\n",
    "            u, u_noisy, x, functional_kernel, functional_param_grid\n",
    "        )\n",
    "        functional_mse_list.extend(\n",
    "            [\n",
    "                {\n",
    "                    \"smoothing_kernel\": smoothing_kernel,\n",
    "                    \"functional_kernel\": functional_kernel,\n",
    "                    **mse_record,\n",
    "                }\n",
    "                for mse_record in functional_mse_grid\n",
    "            ]\n",
    "        )\n",
    "\n",
    "        P = functions.functional_form_PDE(\n",
    "            s, s, ut, kernel=functional_kernel, **best_functional_params\n",
    "        )\n",
    "        mse = mean_squared_error(u, P)\n",
    "        key = f\"{smoothing_kernel}_smoothing_with_{functional_kernel}_functional\"\n",
    "        results[key] = {\n",
    "            \"smoothing_params\": best_smoothing_params,\n",
    "            \"functional_params\": best_functional_params,\n",
    "            \"mse\": mse,\n",
    "            \"P\": P,\n",
    "        }"
   ]
  },
  {
   "cell_type": "code",
   "execution_count": null,
   "metadata": {},
   "outputs": [],
   "source": [
    "smoothing_mse_df = pd.DataFrame(smoothing_mse_list)\n",
    "functional_mse_df = pd.DataFrame(functional_mse_list)\n",
    "smoothing_mse_df.to_csv(f\"results/{system}/smoothing_mse.csv\", index=False)\n",
    "functional_mse_df.to_csv(f\"results/{system}/functional_mse.csv\", index=False)"
   ]
  },
  {
   "cell_type": "code",
   "execution_count": null,
   "metadata": {},
   "outputs": [],
   "source": [
    "L1 = np.linspace(x[0], x[-1], len(x) + 1)\n",
    "L2 = np.linspace(t[0], t[-1], len(t) + 1)\n",
    "\n",
    "smoothing_comparison_fig1, smoothing_comarison_axs1 = plt.subplots(\n",
    "    1, 2, figsize=(12, 6)\n",
    ")\n",
    "smoothing_comarison_axs1[0].pcolormesh(L2, L1, u)\n",
    "smoothing_comarison_axs1[0].set(title=\"True Data\")\n",
    "smoothing_comarison_axs1[1].pcolormesh(L2, L1, u_noisy)\n",
    "smoothing_comarison_axs1[1].set(title=\"Noisy Data\")\n",
    "smoothing_comparison_fig1.savefig(f\"results/{system}/true_vs_noisy_data.png\")"
   ]
  },
  {
   "cell_type": "code",
   "execution_count": null,
   "metadata": {},
   "outputs": [],
   "source": [
    "smoothing_comparison_fig2, smoothing_comarison_axs2 = plt.subplots(\n",
    "    1, 3, figsize=(18, 6)\n",
    ")\n",
    "for idx, smoothing_kernel in enumerate(kernel_types):\n",
    "    best_smoothing_params = results[\n",
    "        f\"{smoothing_kernel}_smoothing_with_rbf_functional\"\n",
    "    ][\"smoothing_params\"]\n",
    "    u_smooth = functions.kernel_smoothing(\n",
    "        u_noisy, x, kernel=smoothing_kernel, **best_smoothing_params\n",
    "    )\n",
    "    smoothing_comarison_axs2[idx].pcolormesh(L2, L1, u_smooth)\n",
    "    smoothing_comarison_axs2[idx].set(\n",
    "        title=f\"Smoothed Data using {smoothing_kernel.upper()} Kernel\"\n",
    "    )\n",
    "smoothing_comparison_fig2.savefig(f\"results/{system}/smoothing_comparison.png\")"
   ]
  },
  {
   "cell_type": "code",
   "execution_count": null,
   "metadata": {},
   "outputs": [],
   "source": [
    "estimation_comparison_fig, estimation_comparison_axs = plt.subplots(\n",
    "    3, 3, figsize=(18, 18)\n",
    ")\n",
    "for i, smoothing_kernel in enumerate(kernel_types):\n",
    "    for j, functional_kernel in enumerate(kernel_types):\n",
    "        key = f\"{smoothing_kernel}_smoothing_with_{functional_kernel}_functional\"\n",
    "        P = results[key][\"P\"]\n",
    "        estimation_comparison_axs[i, j].pcolormesh(L2, L1, P)\n",
    "        estimation_comparison_axs[i, j].set(\n",
    "            title=f\"{smoothing_kernel.upper()} Smoothing with {functional_kernel.upper()} Functional\"\n",
    "        )\n",
    "estimation_comparison_fig.savefig(\n",
    "    f\"results/{system}/functional_estimation_comparison.png\"\n",
    ")"
   ]
  }
 ],
 "metadata": {
  "kernelspec": {
   "display_name": "Python 3",
   "language": "python",
   "name": "python3"
  },
  "language_info": {
   "codemirror_mode": {
    "name": "ipython",
    "version": 3
   },
   "file_extension": ".py",
   "mimetype": "text/x-python",
   "name": "python",
   "nbconvert_exporter": "python",
   "pygments_lexer": "ipython3",
   "version": "3.11.9"
  }
 },
 "nbformat": 4,
 "nbformat_minor": 2
}
