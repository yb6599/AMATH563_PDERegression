{
 "cells": [
  {
   "cell_type": "markdown",
   "id": "c9c419d3",
   "metadata": {},
   "source": [
    "$$\n",
    "\\begin{align*}\n",
    "\\text{1D Heat Diffusion: }\n",
    "\\frac{du(x,t)}{dt} &= \\alpha \\frac{d^2u(x,t)}{dx^2} + f(x,t)\n",
    "\\end{align*}\n",
    "$$\n"
   ]
  },
  {
   "cell_type": "code",
   "execution_count": 1,
   "id": "0835c150-b996-4c98-aeb6-d9dce786584a",
   "metadata": {},
   "outputs": [],
   "source": [
    "import jax.numpy as jnp\n",
    "import numpy as np\n",
    "import matplotlib.pyplot as plt\n",
    "import GPy\n",
    "from GPy.kern import RBF\n",
    "from jax import grad"
   ]
  },
  {
   "cell_type": "code",
   "execution_count": 2,
   "id": "7adb4d64",
   "metadata": {},
   "outputs": [],
   "source": [
    "np.random.seed(123)"
   ]
  },
  {
   "cell_type": "code",
   "execution_count": 3,
   "id": "dc88922c",
   "metadata": {},
   "outputs": [],
   "source": [
    "# Define parameters\n",
    "L = 1.0 \n",
    "N = 50  \n",
    "alpha = 0.01  \n",
    "T_final = 10.0  \n",
    "dt = 0.1\n",
    "\n",
    "# # Generate mesh grid\n",
    "x = np.linspace(0, L, N) \n"
   ]
  },
  {
   "cell_type": "code",
   "execution_count": 4,
   "id": "07efb97c",
   "metadata": {},
   "outputs": [],
   "source": [
    "# Generate source terms \n",
    "kernel = GPy.kern.RBF(input_dim=1, variance=1.0, lengthscale=1.0) #variance and lengthscale = 1, could implement parameter tuning \n",
    "gp = GPy.models.GPRegression(np.zeros((1,1)), np.zeros((1,1)), kernel)\n",
    "\n",
    "f_source = gp.posterior_samples_f(x.reshape(-1, 1), full_cov=True, size=1) # generate only one source function \n",
    "f_source = f_source[:, 0, 0]"
   ]
  },
  {
   "cell_type": "code",
   "execution_count": 5,
   "id": "6cd08d31",
   "metadata": {},
   "outputs": [],
   "source": [
    "# Define initial condition 40th - 60th percentile = 1 \n",
    "def initial_condition(N):\n",
    "    \"\"\"\n",
    "    Define the initial temperature distribution along the rod.\n",
    "    \"\"\"\n",
    "    u_init = jnp.zeros(N)\n",
    "    start_index = int(0.4 * N)\n",
    "    end_index = int(0.6 * N)\n",
    "    u_init = u_init.at[start_index:end_index].set(1.0) \n",
    "    return u_init\n",
    "\n",
    "u_init = initial_condition(N)"
   ]
  },
  {
   "cell_type": "code",
   "execution_count": 6,
   "id": "7375a638",
   "metadata": {},
   "outputs": [],
   "source": [
    "def heat_equation(u, f):\n",
    "\n",
    "    d2u_dx2 = jnp.zeros_like(u)\n",
    "    for i in range(len(u)):\n",
    "        d2u_dx2 = d2u_dx2.at[i].set(grad(grad(lambda x: x))(u[i]))\n",
    "    \n",
    "        du_dt = alpha * d2u_dx2 + f\n",
    "\n",
    "    return du_dt"
   ]
  },
  {
   "cell_type": "code",
   "execution_count": 7,
   "id": "87f56cae",
   "metadata": {},
   "outputs": [],
   "source": [
    "# Perform time integration to solve the 1D heat diffusion equation using forward Euler's method \n",
    "\n",
    "def integrate(u):\n",
    "    t = 0.0\n",
    "    while t < T_final:\n",
    "        # Compute the temperature gradient\n",
    "        du_dt = heat_equation(u, f_source)\n",
    "        # Update the temperature using forward Euler's method\n",
    "        u += dt * du_dt \n",
    "        # Increment time\n",
    "        t += dt\n",
    "    return u\n"
   ]
  },
  {
   "cell_type": "code",
   "execution_count": 8,
   "id": "fddfedec",
   "metadata": {},
   "outputs": [
    {
     "data": {
      "text/plain": [
       "Array([ 1.8455838,  2.0621839,  2.2865326,  2.518291 ,  2.7570882,\n",
       "        3.0025237,  3.2541919,  3.5116503,  3.7744207,  4.0420423,\n",
       "        4.3139997,  4.589776 ,  4.868838 ,  5.1506267,  5.4345856,\n",
       "        5.720142 ,  6.006725 ,  6.2937055,  6.5805025,  6.866494 ,\n",
       "        8.151109 ,  8.433676 ,  8.713594 ,  8.990275 ,  9.263065 ,\n",
       "        9.531361 ,  9.794561 , 10.052056 , 10.303208 , 10.547472 ,\n",
       "        9.784231 , 10.012904 , 10.232933 , 10.443748 , 10.64483  ,\n",
       "       10.835609 , 11.01557  , 11.184221 , 11.341041 , 11.485586 ,\n",
       "       11.617358 , 11.735931 , 11.840857 , 11.931769 , 12.008191 ,\n",
       "       12.069829 , 12.116299 , 12.14724  , 12.16234  , 12.161308 ],      dtype=float32)"
      ]
     },
     "execution_count": 8,
     "metadata": {},
     "output_type": "execute_result"
    }
   ],
   "source": [
    "u_final = integrate(u_init)\n",
    "u_final"
   ]
  },
  {
   "cell_type": "code",
   "execution_count": 9,
   "id": "5d0d7a51",
   "metadata": {},
   "outputs": [
    {
     "data": {
      "text/plain": [
       "array([0.18273087, 0.20417639, 0.22638939, 0.24933574, 0.27297891,\n",
       "       0.29727996, 0.32219759, 0.34768796, 0.37370544, 0.40020216,\n",
       "       0.42712864, 0.45443309, 0.48206271, 0.50996303, 0.53807828,\n",
       "       0.56635137, 0.59472465, 0.62313887, 0.65153467, 0.67985173,\n",
       "       0.70802958, 0.73600698, 0.76372274, 0.79111601, 0.81812536,\n",
       "       0.84468965, 0.8707487 , 0.89624217, 0.92111028, 0.94529395,\n",
       "       0.96873528, 0.99137681, 1.01316183, 1.03403553, 1.05394313,\n",
       "       1.07283211, 1.09065047, 1.1073478 , 1.12287536, 1.13718592,\n",
       "       1.15023307, 1.16197285, 1.17236282, 1.18136191, 1.18893102,\n",
       "       1.19503308, 1.19963252, 1.20269574, 1.20419124, 1.20408939])"
      ]
     },
     "execution_count": 9,
     "metadata": {},
     "output_type": "execute_result"
    }
   ],
   "source": [
    "f_source"
   ]
  },
  {
   "cell_type": "code",
   "execution_count": 10,
   "id": "3648e941-a430-4147-a3d3-0b88b065bb68",
   "metadata": {},
   "outputs": [
    {
     "data": {
      "text/plain": [
       "array([[ 1.8455838 ,  0.18273087],\n",
       "       [ 2.06218386,  0.20417639],\n",
       "       [ 2.28653264,  0.22638939],\n",
       "       [ 2.518291  ,  0.24933574],\n",
       "       [ 2.75708818,  0.27297891],\n",
       "       [ 3.00252366,  0.29727996],\n",
       "       [ 3.25419188,  0.32219759],\n",
       "       [ 3.51165032,  0.34768796],\n",
       "       [ 3.77442074,  0.37370544],\n",
       "       [ 4.04204226,  0.40020216],\n",
       "       [ 4.31399965,  0.42712864],\n",
       "       [ 4.58977604,  0.45443309],\n",
       "       [ 4.86883783,  0.48206271],\n",
       "       [ 5.15062666,  0.50996303],\n",
       "       [ 5.43458557,  0.53807828],\n",
       "       [ 5.72014189,  0.56635137],\n",
       "       [ 6.00672483,  0.59472465],\n",
       "       [ 6.29370546,  0.62313887],\n",
       "       [ 6.58050251,  0.65153467],\n",
       "       [ 6.86649418,  0.67985173],\n",
       "       [ 8.15110874,  0.70802958],\n",
       "       [ 8.43367577,  0.73600698],\n",
       "       [ 8.71359444,  0.76372274],\n",
       "       [ 8.99027538,  0.79111601],\n",
       "       [ 9.26306534,  0.81812536],\n",
       "       [ 9.53136063,  0.84468965],\n",
       "       [ 9.79456139,  0.8707487 ],\n",
       "       [10.05205631,  0.89624217],\n",
       "       [10.30320835,  0.92111028],\n",
       "       [10.547472  ,  0.94529395],\n",
       "       [ 9.78423119,  0.96873528],\n",
       "       [10.01290417,  0.99137681],\n",
       "       [10.23293304,  1.01316183],\n",
       "       [10.44374847,  1.03403553],\n",
       "       [10.64482975,  1.05394313],\n",
       "       [10.83560944,  1.07283211],\n",
       "       [11.01556969,  1.09065047],\n",
       "       [11.18422127,  1.1073478 ],\n",
       "       [11.34104061,  1.12287536],\n",
       "       [11.48558617,  1.13718592],\n",
       "       [11.61735821,  1.15023307],\n",
       "       [11.7359314 ,  1.16197285],\n",
       "       [11.84085655,  1.17236282],\n",
       "       [11.93176937,  1.18136191],\n",
       "       [12.00819111,  1.18893102],\n",
       "       [12.06982899,  1.19503308],\n",
       "       [12.11629868,  1.19963252],\n",
       "       [12.14723969,  1.20269574],\n",
       "       [12.16234016,  1.20419124],\n",
       "       [12.16130829,  1.20408939]])"
      ]
     },
     "execution_count": 10,
     "metadata": {},
     "output_type": "execute_result"
    }
   ],
   "source": [
    "training_data = np.concatenate((u_final[:, np.newaxis], f_source[:, np.newaxis]), axis=1)\n",
    "training_data"
   ]
  },
  {
   "cell_type": "code",
   "execution_count": null,
   "id": "8d269d82",
   "metadata": {},
   "outputs": [],
   "source": []
  }
 ],
 "metadata": {
  "kernelspec": {
   "display_name": "Python 3",
   "language": "python",
   "name": "python3"
  },
  "language_info": {
   "codemirror_mode": {
    "name": "ipython",
    "version": 3
   },
   "file_extension": ".py",
   "mimetype": "text/x-python",
   "name": "python",
   "nbconvert_exporter": "python",
   "pygments_lexer": "ipython3",
   "version": "3.11.9"
  }
 },
 "nbformat": 4,
 "nbformat_minor": 5
}
