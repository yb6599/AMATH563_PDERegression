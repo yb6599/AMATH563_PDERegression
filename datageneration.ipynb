{
 "cells": [
  {
   "cell_type": "code",
   "execution_count": 7,
   "metadata": {},
   "outputs": [],
   "source": [
    "from gendata import gen_data, diffusion, burgers, ks\n",
    "import numpy as np"
   ]
  },
  {
   "cell_type": "code",
   "execution_count": 2,
   "metadata": {},
   "outputs": [],
   "source": [
    "# For Diffusion and Burgers\n",
    "x01 = -8\n",
    "xe1 = 8\n",
    "nx1 = 1000\n",
    "dx1 = (xe1 - x01) / nx1\n",
    "t01 = 0\n",
    "te1 = 16\n",
    "dt1 = (te1 - t01) / nx1\n",
    "u01 = np.exp(-((np.linspace(x01, xe1, nx1) + 2) ** 2) / 2)"
   ]
  },
  {
   "cell_type": "code",
   "execution_count": 3,
   "metadata": {},
   "outputs": [],
   "source": [
    "u_diff = gen_data(diffusion, u01, args=(dx1, nx1), dt=dt1, t_end=te1)\n",
    "np.save(\"data/Diffusion.npy\", u_diff)"
   ]
  },
  {
   "cell_type": "code",
   "execution_count": 4,
   "metadata": {},
   "outputs": [],
   "source": [
    "u_bg = gen_data(burgers, u01, args=(dx1, nx1), dt=dt1, t_end=te1)\n",
    "np.save(\"data/Burgers.npy\", u_bg)"
   ]
  },
  {
   "cell_type": "code",
   "execution_count": 8,
   "metadata": {},
   "outputs": [],
   "source": [
    "# For Kuramoto-Sivashinsky\n",
    "x02 = 0\n",
    "xe2 = 100\n",
    "nx2 = 1000\n",
    "dx2 = (xe2 - x02) / nx2\n",
    "t02 = 0\n",
    "te2 = 100\n",
    "dt2 = (te2 - t02) / nx2\n",
    "u02 = (np.cos(np.linspace(x02, xe2, nx2))) * (\n",
    "    1 + np.sin(np.linspace(x02, xe2, nx2) - 0.5)\n",
    ")"
   ]
  },
  {
   "cell_type": "code",
   "execution_count": 9,
   "metadata": {},
   "outputs": [],
   "source": [
    "u_ks = gen_data(ks, u02, args=(dx2, nx2), dt=dt2, t_end=te2)\n",
    "np.save(\"data/Kuramoto-Sivashinsky.npy\", u_ks)"
   ]
  }
 ],
 "metadata": {
  "kernelspec": {
   "display_name": "Python 3",
   "language": "python",
   "name": "python3"
  },
  "language_info": {
   "codemirror_mode": {
    "name": "ipython",
    "version": 3
   },
   "file_extension": ".py",
   "mimetype": "text/x-python",
   "name": "python",
   "nbconvert_exporter": "python",
   "pygments_lexer": "ipython3",
   "version": "3.11.9"
  }
 },
 "nbformat": 4,
 "nbformat_minor": 2
}
